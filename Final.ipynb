{
 "cells": [
  {
   "cell_type": "code",
   "execution_count": 17,
   "metadata": {},
   "outputs": [],
   "source": [
    "import cv2\n",
    "import math\n",
    "import matplotlib.pyplot as plt\n",
    "import pandas as pd\n",
    "\n",
    "from keras.preprocessing import image\n",
    "import numpy as np\n",
    "from keras.utils import np_utils\n",
    "from skimage.transform import resize\n",
    "from keras.models import Sequential\n",
    "from keras.layers import Dense, Flatten,Dropout,Conv3D, MaxPooling3D,Activation\n",
    "from keras.layers.convolutional import Convolution3D, MaxPooling3D\n",
    "import os\n",
    "from keras.models import model_from_json\n",
    "import json\n",
    "from sklearn.model_selection import train_test_split"
   ]
  },
  {
   "cell_type": "code",
   "execution_count": 18,
   "metadata": {},
   "outputs": [],
   "source": [
    "img_row = 100\n",
    "img_col = 100\n",
    "img_depth = 16\n",
    "newDimension = (img_row,img_col)"
   ]
  },
  {
   "cell_type": "code",
   "execution_count": 19,
   "metadata": {},
   "outputs": [
    {
     "name": "stdout",
     "output_type": "stream",
     "text": [
      "(100, 100, 16)\n",
      "(100, 100, 16)\n",
      "(100, 100, 16)\n",
      "(100, 100, 16)\n",
      "(100, 100, 16)\n",
      "(100, 100, 16)\n",
      "(100, 100, 16)\n",
      "(100, 100, 16)\n",
      "(100, 100, 16)\n",
      "(100, 100, 16)\n",
      "(100, 100, 16)\n",
      "(100, 100, 16)\n",
      "(100, 100, 16)\n",
      "(100, 100, 16)\n",
      "(100, 100, 16)\n",
      "(100, 100, 16)\n",
      "(100, 100, 16)\n",
      "(100, 100, 16)\n",
      "(100, 100, 16)\n",
      "(100, 100, 16)\n",
      "(100, 100, 16)\n",
      "(100, 100, 16)\n",
      "(100, 100, 16)\n",
      "(100, 100, 16)\n",
      "(100, 100, 16)\n",
      "(100, 100, 16)\n",
      "(100, 100, 16)\n",
      "(100, 100, 16)\n",
      "(100, 100, 16)\n",
      "(100, 100, 16)\n",
      "(100, 100, 16)\n",
      "(100, 100, 16)\n",
      "(100, 100, 16)\n",
      "(100, 100, 16)\n",
      "(100, 100, 16)\n",
      "(100, 100, 16)\n",
      "(100, 100, 16)\n",
      "(100, 100, 16)\n",
      "(100, 100, 16)\n",
      "(100, 100, 16)\n",
      "(100, 100, 16)\n",
      "(100, 100, 16)\n",
      "(100, 100, 16)\n",
      "(100, 100, 16)\n",
      "(100, 100, 16)\n",
      "(100, 100, 16)\n",
      "(100, 100, 16)\n",
      "(100, 100, 16)\n",
      "(100, 100, 16)\n",
      "(100, 100, 16)\n",
      "(100, 100, 16)\n",
      "(100, 100, 16)\n",
      "(100, 100, 16)\n",
      "(100, 100, 16)\n",
      "(100, 100, 16)\n",
      "(100, 100, 16)\n",
      "(100, 100, 16)\n",
      "(100, 100, 16)\n",
      "(100, 100, 16)\n",
      "(100, 100, 16)\n",
      "(100, 100, 16)\n",
      "(100, 100, 16)\n",
      "(100, 100, 16)\n",
      "(100, 100, 16)\n",
      "(100, 100, 16)\n",
      "(100, 100, 16)\n",
      "(100, 100, 16)\n",
      "(100, 100, 16)\n",
      "(100, 100, 16)\n",
      "(100, 100, 16)\n",
      "(100, 100, 16)\n",
      "(100, 100, 16)\n",
      "(100, 100, 16)\n",
      "(100, 100, 16)\n",
      "(100, 100, 16)\n",
      "(100, 100, 16)\n",
      "(100, 100, 16)\n",
      "(100, 100, 16)\n",
      "(100, 100, 16)\n",
      "(100, 100, 16)\n",
      "(100, 100, 16)\n",
      "(100, 100, 16)\n",
      "(100, 100, 16)\n",
      "(100, 100, 16)\n",
      "(100, 100, 16)\n",
      "(100, 100, 16)\n",
      "(100, 100, 16)\n",
      "(100, 100, 16)\n",
      "(100, 100, 16)\n",
      "(100, 100, 16)\n",
      "(100, 100, 16)\n",
      "(100, 100, 16)\n",
      "(100, 100, 16)\n",
      "(100, 100, 16)\n",
      "(100, 100, 16)\n",
      "(100, 100, 16)\n",
      "(100, 100, 16)\n",
      "(100, 100, 16)\n",
      "(100, 100, 16)\n",
      "(100, 100, 16)\n",
      "(100, 100, 16)\n",
      "(100, 100, 16)\n",
      "(100, 100, 16)\n",
      "(100, 100, 16)\n",
      "(100, 100, 16)\n",
      "(100, 100, 16)\n",
      "(100, 100, 16)\n"
     ]
    }
   ],
   "source": [
    "X_tr = []\n",
    "a = 0\n",
    "listing = os.listdir('videofortraining/jump1/')\n",
    "for vid in listing:\n",
    "    vid = 'videofortraining/jump1/'+vid\n",
    "    frames = []\n",
    "    newDimension = (img_row,img_col)\n",
    "    cap = cv2.VideoCapture(vid)\n",
    "\n",
    "    ret,first_frame = cap.read()\n",
    "    first_frame = cv2.resize(first_frame, newDimension, interpolation = cv2.INTER_AREA)\n",
    "    prev_gray = cv2.cvtColor(first_frame,cv2.COLOR_BGR2GRAY)\n",
    "    hsv = np.zeros_like(first_frame)\n",
    "    hsv[...,1] = 255\n",
    "\n",
    "    frameRate = cap.get(7)/(img_depth)\n",
    "    #print(frameRate)\n",
    "    newDimension = (img_row,img_col)\n",
    "    a = a + frameRate\n",
    "    frame_list = []\n",
    "\n",
    "    for i in range(img_depth):\n",
    "        f = math.floor((i + 1) * frameRate)\n",
    "        frame_list.append(f)\n",
    "    frame_list.append(int(cap.get(7)-2))\n",
    "\n",
    "    while (cap.isOpened()):\n",
    "        frameId = cap.get(1)\n",
    "        ret, frame = cap.read()\n",
    "        if (ret != True):\n",
    "            break\n",
    "        if frameId in frame_list:\n",
    "            frame = cv2.resize(frame, newDimension, interpolation = cv2.INTER_AREA)\n",
    "            gray = cv2.cvtColor(frame,cv2.COLOR_BGR2GRAY)\n",
    "            flow = cv2.calcOpticalFlowFarneback(prev_gray, gray, None, 0.5, 3, 15, 3, 5, 1.2, 0)\n",
    "            mag,ang = cv2.cartToPolar(flow[...,0],flow[...,1])\n",
    "            hsv[...,0] = ang*180/np.pi/2\n",
    "            hsv[...,2] = cv2.normalize(mag,None,0,255,cv2.NORM_MINMAX)\n",
    "            flow = cv2.cvtColor(hsv,cv2.COLOR_HSV2BGR)\n",
    "            flow = cv2.cvtColor(flow,cv2.COLOR_BGR2GRAY)\n",
    "            frames.append(flow)\n",
    "            prev_gray = gray\n",
    "        \n",
    "    cap.release()\n",
    "    cv2.destroyAllWindows()\n",
    "\n",
    "    input=np.array(frames)\n",
    "\n",
    "    ipt=np.rollaxis(np.rollaxis(input,2,0),2,0)\n",
    "    print(ipt.shape)\n",
    "    X_tr.append(ipt)"
   ]
  },
  {
   "cell_type": "code",
   "execution_count": 20,
   "metadata": {},
   "outputs": [
    {
     "name": "stdout",
     "output_type": "stream",
     "text": [
      "(100, 100, 16)\n",
      "(100, 100, 16)\n",
      "(100, 100, 16)\n",
      "(100, 100, 16)\n",
      "(100, 100, 16)\n",
      "(100, 100, 16)\n",
      "(100, 100, 16)\n",
      "(100, 100, 16)\n",
      "(100, 100, 16)\n",
      "(100, 100, 16)\n",
      "(100, 100, 16)\n",
      "(100, 100, 16)\n",
      "(100, 100, 16)\n",
      "(100, 100, 16)\n",
      "(100, 100, 16)\n",
      "(100, 100, 16)\n",
      "(100, 100, 16)\n",
      "(100, 100, 16)\n",
      "(100, 100, 16)\n",
      "(100, 100, 16)\n",
      "(100, 100, 16)\n",
      "(100, 100, 16)\n",
      "(100, 100, 16)\n",
      "(100, 100, 16)\n",
      "(100, 100, 16)\n",
      "(100, 100, 16)\n",
      "(100, 100, 16)\n",
      "(100, 100, 16)\n",
      "(100, 100, 16)\n",
      "(100, 100, 16)\n",
      "(100, 100, 16)\n",
      "(100, 100, 16)\n",
      "(100, 100, 16)\n",
      "(100, 100, 16)\n",
      "(100, 100, 16)\n",
      "(100, 100, 16)\n",
      "(100, 100, 16)\n",
      "(100, 100, 16)\n",
      "(100, 100, 16)\n",
      "(100, 100, 16)\n",
      "(100, 100, 16)\n",
      "(100, 100, 16)\n",
      "(100, 100, 16)\n",
      "(100, 100, 16)\n",
      "(100, 100, 16)\n",
      "(100, 100, 16)\n",
      "(100, 100, 16)\n",
      "(100, 100, 16)\n",
      "(100, 100, 16)\n",
      "(100, 100, 16)\n",
      "(100, 100, 16)\n",
      "(100, 100, 16)\n",
      "(100, 100, 16)\n",
      "(100, 100, 16)\n",
      "(100, 100, 16)\n",
      "(100, 100, 16)\n",
      "(100, 100, 16)\n",
      "(100, 100, 16)\n",
      "(100, 100, 16)\n",
      "(100, 100, 16)\n",
      "(100, 100, 16)\n",
      "(100, 100, 16)\n",
      "(100, 100, 16)\n",
      "(100, 100, 16)\n",
      "(100, 100, 16)\n",
      "(100, 100, 16)\n",
      "(100, 100, 16)\n",
      "(100, 100, 16)\n",
      "(100, 100, 16)\n",
      "(100, 100, 16)\n",
      "(100, 100, 16)\n",
      "(100, 100, 16)\n",
      "(100, 100, 16)\n",
      "(100, 100, 16)\n",
      "(100, 100, 16)\n",
      "(100, 100, 16)\n",
      "(100, 100, 16)\n",
      "(100, 100, 16)\n",
      "(100, 100, 16)\n",
      "(100, 100, 16)\n",
      "(100, 100, 16)\n",
      "(100, 100, 16)\n",
      "(100, 100, 16)\n",
      "(100, 100, 16)\n",
      "(100, 100, 16)\n",
      "(100, 100, 16)\n",
      "(100, 100, 16)\n",
      "(100, 100, 16)\n",
      "(100, 100, 16)\n",
      "(100, 100, 16)\n",
      "(100, 100, 16)\n",
      "(100, 100, 16)\n",
      "(100, 100, 16)\n",
      "(100, 100, 16)\n",
      "(100, 100, 16)\n",
      "(100, 100, 16)\n",
      "(100, 100, 16)\n",
      "(100, 100, 16)\n",
      "(100, 100, 16)\n",
      "(100, 100, 16)\n",
      "(100, 100, 16)\n",
      "(100, 100, 16)\n",
      "(100, 100, 16)\n",
      "(100, 100, 16)\n",
      "(100, 100, 16)\n",
      "(100, 100, 16)\n",
      "(100, 100, 16)\n",
      "(100, 100, 16)\n",
      "(100, 100, 16)\n",
      "(100, 100, 16)\n",
      "(100, 100, 16)\n",
      "(100, 100, 16)\n",
      "(100, 100, 16)\n",
      "(100, 100, 16)\n",
      "(100, 100, 16)\n",
      "(100, 100, 16)\n",
      "(100, 100, 16)\n",
      "(100, 100, 16)\n",
      "(100, 100, 16)\n",
      "(100, 100, 16)\n",
      "(100, 100, 16)\n",
      "(100, 100, 16)\n",
      "(100, 100, 16)\n",
      "(100, 100, 16)\n",
      "(100, 100, 16)\n",
      "(100, 100, 16)\n",
      "(100, 100, 16)\n",
      "(100, 100, 16)\n",
      "(100, 100, 16)\n",
      "(100, 100, 16)\n",
      "(100, 100, 16)\n"
     ]
    }
   ],
   "source": [
    "listing = os.listdir('videofortraining/nojump1/')\n",
    "for vid in listing:\n",
    "    vid = 'videofortraining/nojump1/'+vid\n",
    "    frames = []\n",
    "    newDimension = (img_row,img_col)\n",
    "    cap = cv2.VideoCapture(vid)\n",
    "\n",
    "    ret,first_frame = cap.read()\n",
    "    first_frame = cv2.resize(first_frame, newDimension, interpolation = cv2.INTER_AREA)\n",
    "    prev_gray = cv2.cvtColor(first_frame,cv2.COLOR_BGR2GRAY)\n",
    "    hsv = np.zeros_like(first_frame)\n",
    "    hsv[...,1] = 255\n",
    "\n",
    "    frameRate = cap.get(7)/(img_depth)\n",
    "    #print(frameRate)\n",
    "    newDimension = (img_row,img_col)\n",
    "    a = a + frameRate\n",
    "    frame_list = []\n",
    "\n",
    "    for i in range(img_depth):\n",
    "        f = math.floor((i + 1) * frameRate)\n",
    "        frame_list.append(f)\n",
    "    frame_list.append(int(cap.get(7)-2))\n",
    "\n",
    "    while (cap.isOpened()):\n",
    "        frameId = cap.get(1)\n",
    "        ret, frame = cap.read()\n",
    "        if (ret != True):\n",
    "            break\n",
    "        if frameId in frame_list:\n",
    "            frame = cv2.resize(frame, newDimension, interpolation = cv2.INTER_AREA)\n",
    "            gray = cv2.cvtColor(frame,cv2.COLOR_BGR2GRAY)\n",
    "            flow = cv2.calcOpticalFlowFarneback(prev_gray, gray, None, 0.5, 3, 15, 3, 5, 1.2, 0)\n",
    "            mag,ang = cv2.cartToPolar(flow[...,0],flow[...,1])\n",
    "            hsv[...,0] = ang*180/np.pi/2\n",
    "            hsv[...,2] = cv2.normalize(mag,None,0,255,cv2.NORM_MINMAX)\n",
    "            flow = cv2.cvtColor(hsv,cv2.COLOR_HSV2BGR)\n",
    "            flow = cv2.cvtColor(flow,cv2.COLOR_BGR2GRAY)\n",
    "            frames.append(flow)\n",
    "            prev_gray = gray\n",
    "        \n",
    "    cap.release()\n",
    "    cv2.destroyAllWindows()\n",
    "\n",
    "    input=np.array(frames)\n",
    "\n",
    "    ipt=np.rollaxis(np.rollaxis(input,2,0),2,0)\n",
    "    print(ipt.shape)\n",
    "    X_tr.append(ipt)"
   ]
  },
  {
   "cell_type": "code",
   "execution_count": 21,
   "metadata": {},
   "outputs": [
    {
     "name": "stdout",
     "output_type": "stream",
     "text": [
      "(238, 100, 100, 16)\n"
     ]
    }
   ],
   "source": [
    "X_tr = np.array(X_tr)\n",
    "print(X_tr.shape)"
   ]
  },
  {
   "cell_type": "code",
   "execution_count": 22,
   "metadata": {},
   "outputs": [
    {
     "name": "stdout",
     "output_type": "stream",
     "text": [
      "(238, 100, 100, 16)\n",
      "(100, 100, 16)\n"
     ]
    }
   ],
   "source": [
    "num_sample = len(X_tr)\n",
    "\n",
    "label = np.ones((num_sample))\n",
    "label[0:107] = 1\n",
    "label[107:238] = 0\n",
    "#print(label)\n",
    "\n",
    "train_data = [X_tr,label]\n",
    "\n",
    "(X_train,Y_train) = (train_data[0],train_data[1])\n",
    "print(X_train.shape)\n",
    "train_set = np.zeros((num_sample,img_row,img_col,img_depth,1))\n",
    "print(train_set[0,:,:,:,0].shape)\n",
    "for sample in range(num_sample):\n",
    "    train_set[sample,:,:,:,0] = X_train[sample][:][:][:]\n",
    "\n",
    "patch_size = 10\n",
    "batch_size = 1\n",
    "num_class = 2\n",
    "num_epoch = 16\n",
    "\n",
    "Y_train = np_utils.to_categorical(Y_train,num_class)\n",
    "#print(Y_train)\n",
    "\n",
    "num_filter = [32,32,32,32,32]\n",
    "num_pooling = [3,3]\n",
    "num_conv = [5,5]\n",
    "\n",
    "train_set = train_set.astype('float32')\n",
    "train_set -= np.mean(train_set)\n",
    "train_set /= np.max(train_set)"
   ]
  },
  {
   "cell_type": "code",
   "execution_count": 23,
   "metadata": {},
   "outputs": [
    {
     "name": "stdout",
     "output_type": "stream",
     "text": [
      "Model: \"sequential_2\"\n",
      "_________________________________________________________________\n",
      "Layer (type)                 Output Shape              Param #   \n",
      "=================================================================\n",
      "conv3d_5 (Conv3D)            (None, 98, 98, 14, 32)    896       \n",
      "_________________________________________________________________\n",
      "max_pooling3d_5 (MaxPooling3 (None, 49, 49, 14, 32)    0         \n",
      "_________________________________________________________________\n",
      "conv3d_6 (Conv3D)            (None, 47, 47, 12, 32)    27680     \n",
      "_________________________________________________________________\n",
      "max_pooling3d_6 (MaxPooling3 (None, 23, 23, 12, 32)    0         \n",
      "_________________________________________________________________\n",
      "conv3d_7 (Conv3D)            (None, 21, 21, 10, 32)    27680     \n",
      "_________________________________________________________________\n",
      "max_pooling3d_7 (MaxPooling3 (None, 10, 10, 5, 32)     0         \n",
      "_________________________________________________________________\n",
      "conv3d_8 (Conv3D)            (None, 8, 8, 3, 32)       27680     \n",
      "_________________________________________________________________\n",
      "max_pooling3d_8 (MaxPooling3 (None, 4, 4, 1, 32)       0         \n",
      "_________________________________________________________________\n",
      "dropout_4 (Dropout)          (None, 4, 4, 1, 32)       0         \n",
      "_________________________________________________________________\n",
      "flatten_2 (Flatten)          (None, 512)               0         \n",
      "_________________________________________________________________\n",
      "dense_4 (Dense)              (None, 512)               262656    \n",
      "_________________________________________________________________\n",
      "dropout_5 (Dropout)          (None, 512)               0         \n",
      "_________________________________________________________________\n",
      "dense_5 (Dense)              (None, 128)               65664     \n",
      "_________________________________________________________________\n",
      "dropout_6 (Dropout)          (None, 128)               0         \n",
      "_________________________________________________________________\n",
      "dense_6 (Dense)              (None, 2)                 258       \n",
      "_________________________________________________________________\n",
      "activation_2 (Activation)    (None, 2)                 0         \n",
      "=================================================================\n",
      "Total params: 412,514\n",
      "Trainable params: 412,514\n",
      "Non-trainable params: 0\n",
      "_________________________________________________________________\n"
     ]
    },
    {
     "name": "stderr",
     "output_type": "stream",
     "text": [
      "/home/jasongao/anaconda3/lib/python3.7/site-packages/ipykernel_launcher.py:13: UserWarning: Update your `Dense` call to the Keras 2 API: `Dense(512, activation=\"relu\", kernel_initializer=\"normal\")`\n",
      "  del sys.path[0]\n",
      "/home/jasongao/anaconda3/lib/python3.7/site-packages/ipykernel_launcher.py:15: UserWarning: Update your `Dense` call to the Keras 2 API: `Dense(128, activation=\"relu\", kernel_initializer=\"normal\")`\n",
      "  from ipykernel import kernelapp as app\n",
      "/home/jasongao/anaconda3/lib/python3.7/site-packages/ipykernel_launcher.py:18: UserWarning: Update your `Dense` call to the Keras 2 API: `Dense(2, kernel_initializer=\"normal\")`\n"
     ]
    }
   ],
   "source": [
    "model = Sequential()\n",
    "model.add(Convolution3D(data_format = 'channels_last',filters = num_filter[0],kernel_size = (3,3,3),input_shape = (img_row,img_col,img_depth,1),activation='relu'))\n",
    "model.add(MaxPooling3D(pool_size = (2,2,1)))\n",
    "model.add(Convolution3D(data_format = 'channels_last',filters = num_filter[1],kernel_size = (3,3,3),input_shape = (img_row,img_col,img_depth,1),activation='relu'))\n",
    "model.add(MaxPooling3D(pool_size = (2,2,1)))\n",
    "model.add(Convolution3D(data_format = 'channels_last',filters = num_filter[2],kernel_size = (3,3,3),input_shape = (img_row,img_col,img_depth,1),activation='relu'))\n",
    "model.add(MaxPooling3D(pool_size = (2,2,2)))\n",
    "model.add(Convolution3D(data_format = 'channels_last',filters = num_filter[0],kernel_size = (3,3,3),input_shape = (img_row,img_col,img_depth,1),activation='relu'))\n",
    "model.add(MaxPooling3D(pool_size = (2,2,2)))\n",
    "\n",
    "model.add(Dropout(0.3))\n",
    "model.add(Flatten())\n",
    "model.add(Dense(512,init = 'normal',activation = 'relu'))\n",
    "model.add(Dropout(0.5))\n",
    "model.add(Dense(128,init = 'normal',activation = 'relu'))\n",
    "model.add(Dropout(0.5))\n",
    "\n",
    "model.add(Dense(2,init = 'normal'))\n",
    "model.add(Activation('sigmoid'))\n",
    "model.compile(loss = 'binary_crossentropy',optimizer = 'RMSprop',metrics = ['accuracy'])\n",
    "model.summary()"
   ]
  },
  {
   "cell_type": "code",
   "execution_count": 24,
   "metadata": {},
   "outputs": [],
   "source": [
    "X_train_new,X_val_new,Y_train_new,Y_val_new = train_test_split(train_set,Y_train,test_size = 0.2)"
   ]
  },
  {
   "cell_type": "code",
   "execution_count": 25,
   "metadata": {},
   "outputs": [
    {
     "name": "stderr",
     "output_type": "stream",
     "text": [
      "/home/jasongao/anaconda3/lib/python3.7/site-packages/ipykernel_launcher.py:1: UserWarning: The `nb_epoch` argument in `fit` has been renamed `epochs`.\n",
      "  \"\"\"Entry point for launching an IPython kernel.\n"
     ]
    },
    {
     "name": "stdout",
     "output_type": "stream",
     "text": [
      "Train on 190 samples, validate on 48 samples\n",
      "Epoch 1/16\n",
      "190/190 [==============================] - 107s 564ms/step - loss: 0.8025 - accuracy: 0.6237 - val_loss: 0.4799 - val_accuracy: 0.7083\n",
      "Epoch 2/16\n",
      "190/190 [==============================] - 107s 562ms/step - loss: 0.4977 - accuracy: 0.8395 - val_loss: 0.4588 - val_accuracy: 0.8750\n",
      "Epoch 3/16\n",
      "190/190 [==============================] - 107s 565ms/step - loss: 0.3493 - accuracy: 0.8711 - val_loss: 0.3099 - val_accuracy: 0.8958\n",
      "Epoch 4/16\n",
      "190/190 [==============================] - 107s 563ms/step - loss: 0.2397 - accuracy: 0.9158 - val_loss: 0.5889 - val_accuracy: 0.9167\n",
      "Epoch 5/16\n",
      "190/190 [==============================] - 107s 563ms/step - loss: 0.3335 - accuracy: 0.9237 - val_loss: 0.2667 - val_accuracy: 0.9167\n",
      "Epoch 6/16\n",
      "190/190 [==============================] - 107s 563ms/step - loss: 0.2863 - accuracy: 0.9605 - val_loss: 0.2605 - val_accuracy: 0.9167\n",
      "Epoch 7/16\n",
      "190/190 [==============================] - 107s 563ms/step - loss: 0.3105 - accuracy: 0.9553 - val_loss: 0.2525 - val_accuracy: 0.8958\n",
      "Epoch 8/16\n",
      "190/190 [==============================] - 107s 564ms/step - loss: 0.2364 - accuracy: 0.9316 - val_loss: 0.5621 - val_accuracy: 0.8854\n",
      "Epoch 9/16\n",
      "190/190 [==============================] - 108s 567ms/step - loss: 0.3814 - accuracy: 0.9421 - val_loss: 0.5198 - val_accuracy: 0.8958\n",
      "Epoch 10/16\n",
      "190/190 [==============================] - 107s 565ms/step - loss: 0.3585 - accuracy: 0.9579 - val_loss: 0.4696 - val_accuracy: 0.9375\n",
      "Epoch 11/16\n",
      "190/190 [==============================] - 108s 567ms/step - loss: 0.2491 - accuracy: 0.9684 - val_loss: 0.4145 - val_accuracy: 0.9167\n",
      "Epoch 12/16\n",
      "190/190 [==============================] - 107s 563ms/step - loss: 0.1486 - accuracy: 0.9632 - val_loss: 0.6781 - val_accuracy: 0.9167\n",
      "Epoch 13/16\n",
      "190/190 [==============================] - 107s 564ms/step - loss: 0.0742 - accuracy: 0.9868 - val_loss: 0.8372 - val_accuracy: 0.9583\n",
      "Epoch 14/16\n",
      "190/190 [==============================] - 108s 566ms/step - loss: 0.0457 - accuracy: 0.9895 - val_loss: 4.8633 - val_accuracy: 0.8958\n",
      "Epoch 15/16\n",
      "190/190 [==============================] - 108s 570ms/step - loss: 0.3324 - accuracy: 0.9895 - val_loss: 1.4325 - val_accuracy: 0.9167\n",
      "Epoch 16/16\n",
      "190/190 [==============================] - 109s 573ms/step - loss: 0.4787 - accuracy: 0.9579 - val_loss: 1.0741 - val_accuracy: 0.9375\n"
     ]
    }
   ],
   "source": [
    "hist = model.fit(X_train_new,Y_train_new,validation_data = (X_val_new,Y_val_new),batch_size = batch_size,nb_epoch = num_epoch,shuffle = True)"
   ]
  },
  {
   "cell_type": "code",
   "execution_count": 26,
   "metadata": {},
   "outputs": [],
   "source": [
    "model_json = model.to_json()\n",
    "with open(\"model_final_r.json\",\"w\") as json_file:\n",
    "    json_file.write(model_json)\n",
    "    \n",
    "model.save_weights(\"model_final_r_w.json\")"
   ]
  },
  {
   "cell_type": "code",
   "execution_count": 27,
   "metadata": {},
   "outputs": [],
   "source": [
    "#run this cell and the next cell to see the test result \n",
    "json_file = open('model_final_r.json','r')\n",
    "loaded_model_json = json_file.read()\n",
    "json_file.close()\n",
    "loaded_model = model_from_json(loaded_model_json)\n",
    "loaded_model.load_weights('model_final_r_w.json')\n",
    "hist = loaded_model"
   ]
  },
  {
   "cell_type": "code",
   "execution_count": 30,
   "metadata": {},
   "outputs": [
    {
     "data": {
      "image/png": "[encoded data removed]",
      "text/plain": [
       "<Figure size 432x288 with 1 Axes>"
      ]
     },
     "metadata": {
      "needs_background": "light"
     },
     "output_type": "display_data"
    },
    {
     "data": {
      "image/png": "[encoded data removed]",
      "text/plain": [
       "<Figure size 432x288 with 1 Axes>"
      ]
     },
     "metadata": {
      "needs_background": "light"
     },
     "output_type": "display_data"
    },
    {
     "data": {
      "image/png": "[encoded data removed]",
      "text/plain": [
       "<Figure size 432x288 with 1 Axes>"
      ]
     },
     "metadata": {
      "needs_background": "light"
     },
     "output_type": "display_data"
    },
    {
     "data": {
      "image/png": "[encoded data removed]",
      "text/plain": [
       "<Figure size 432x288 with 1 Axes>"
      ]
     },
     "metadata": {
      "needs_background": "light"
     },
     "output_type": "display_data"
    },
    {
     "data": {
      "image/png": "[encoded data removed]",
      "text/plain": [
       "<Figure size 432x288 with 1 Axes>"
      ]
     },
     "metadata": {
      "needs_background": "light"
     },
     "output_type": "display_data"
    },
    {
     "data": {
      "image/png": "[encoded data removed]",
      "text/plain": [
       "<Figure size 432x288 with 1 Axes>"
      ]
     },
     "metadata": {
      "needs_background": "light"
     },
     "output_type": "display_data"
    },
    {
     "data": {
      "image/png": "[encoded data removed]",
      "text/plain": [
       "<Figure size 432x288 with 1 Axes>"
      ]
     },
     "metadata": {
      "needs_background": "light"
     },
     "output_type": "display_data"
    },
    {
     "data": {
      "image/png": "[encoded data removed]",
      "text/plain": [
       "<Figure size 432x288 with 1 Axes>"
      ]
     },
     "metadata": {
      "needs_background": "light"
     },
     "output_type": "display_data"
    },
    {
     "data": {
      "image/png": "[encoded data removed]",
      "text/plain": [
       "<Figure size 432x288 with 1 Axes>"
      ]
     },
     "metadata": {
      "needs_background": "light"
     },
     "output_type": "display_data"
    }
   ],
   "source": [
    "listing = os.listdir('testvideo')\n",
    "for a in listing:\n",
    "    vid = 'testvideo/'+a\n",
    "\n",
    "#copy the video name in the next line and disable the first two lines to run the test code\n",
    "#    vid = ''\n",
    "    X_TEST = []\n",
    "    frames = []\n",
    "    count = 0    \n",
    "    \n",
    "    cap = cv2.VideoCapture(vid)\n",
    "    ret,first_frame = cap.read()\n",
    "    #print(ret)\n",
    "    #plt.imshow(first_frame)\n",
    "    first_frame = cv2.resize(first_frame, newDimension, interpolation = cv2.INTER_AREA)\n",
    "    prev_gray = cv2.cvtColor(first_frame,cv2.COLOR_BGR2GRAY)\n",
    "    hsv = np.zeros_like(first_frame)\n",
    "    hsv[...,1] = 255\n",
    "    \n",
    "    frameRate = round(cap.get(5))\n",
    "    num_frame = round(cap.get(7))\n",
    "    #print(frameRate)\n",
    "    #print(num_frame)\n",
    "    \n",
    "    newDimension = (img_row,img_col)\n",
    "    sample_rate = 0.15 * frameRate \n",
    "    \n",
    "    s = 0\n",
    "    sample_frame = []\n",
    "    sample_frame.append(0)\n",
    "    while (s <= num_frame - 1 - img_depth * sample_rate):\n",
    "        s += round(sample_rate) \n",
    "        sample_frame.append(s)\n",
    "    \n",
    "    #print(sample_frame)\n",
    "\n",
    "    while (cap.isOpened()):\n",
    "        frameId = cap.get(1)\n",
    "        ret, frame = cap.read()\n",
    "        if (ret != True):\n",
    "            break\n",
    "        if frameId in sample_frame:\n",
    "            frame = cv2.resize(frame, newDimension, interpolation = cv2.INTER_AREA)\n",
    "            gray = cv2.cvtColor(frame,cv2.COLOR_BGR2GRAY)\n",
    "            flow = cv2.calcOpticalFlowFarneback(prev_gray, gray, None, 0.5, 3, 15, 3, 5, 1.2, 0)\n",
    "            mag,ang = cv2.cartToPolar(flow[...,0],flow[...,1])\n",
    "            hsv[...,0] = ang*180/np.pi/2\n",
    "            hsv[...,2] = cv2.normalize(mag,None,0,255,cv2.NORM_MINMAX)\n",
    "            flow = cv2.cvtColor(hsv,cv2.COLOR_HSV2BGR)\n",
    "            flow = cv2.cvtColor(flow,cv2.COLOR_BGR2GRAY)\n",
    "            frames.append(flow)\n",
    "            #plt.figure()\n",
    "            #plt.imshow(flow)\n",
    "            prev_gray = gray\n",
    "            count +=1\n",
    "            \n",
    "    cap.release()\n",
    "    cv2.destroyAllWindows()\n",
    "    \n",
    "    frames = np.array(frames)\n",
    "\n",
    "    #print(frames.shape)\n",
    "    \n",
    "   \n",
    "    \n",
    "    for i in range(count-img_depth):\n",
    "        frame_pack = []\n",
    "        for j in range(img_depth):\n",
    "            frame_pack.append(frames[i+j][:][:])    \n",
    "        X_TEST.append(frame_pack)  \n",
    "        \n",
    "       #f = np.array(frame_pack)\n",
    "       #print(f.shape)\n",
    "    \n",
    "    X_TEST = np.array(X_TEST)\n",
    "    #print(X_TEST.shape)\n",
    "    X_TEST = np.rollaxis(np.rollaxis(X_TEST,3,1),3,1)\n",
    "    #print(X_TEST.shape)\n",
    "    \n",
    "    TEST_set = np.zeros((count-img_depth,img_row,img_col,img_depth,1))\n",
    "\n",
    "    for sample in range(count-img_depth):\n",
    "        TEST_set[sample,:,:,:,0] = X_TEST[sample,:,:,:]\n",
    "\n",
    "\n",
    "        \n",
    "    prediction = hist.predict(TEST_set)\n",
    "    time = []\n",
    "    prob = []\n",
    "    time_label = []\n",
    "    for i in range(count-img_depth):\n",
    "        time.append(i*0.15)\n",
    "        prob.append(1-prediction[i][0])\n",
    "        time_label.append([i*0.15,prediction[i][0]])\n",
    "    \n",
    "    plt.figure()\n",
    "    plt.plot(time,prob)\n",
    "    #with open(a[0:4]+'_part8','w') as f:\n",
    "    #    json.dump(str(time_label),f)"
   ]
  },
  {
   "cell_type": "code",
   "execution_count": null,
   "metadata": {},
   "outputs": [],
   "source": []
  },
  {
   "cell_type": "code",
   "execution_count": null,
   "metadata": {},
   "outputs": [],
   "source": []
  }
 ],
 "metadata": {
  "kernelspec": {
   "display_name": "Python 3",
   "language": "python",
   "name": "python3"
  },
  "language_info": {
   "codemirror_mode": {
    "name": "ipython",
    "version": 3
   },
   "file_extension": ".py",
   "mimetype": "text/x-python",
   "name": "python",
   "nbconvert_exporter": "python",
   "pygments_lexer": "ipython3",
   "version": "3.7.4"
  }
 },
 "nbformat": 4,
 "nbformat_minor": 2
}
